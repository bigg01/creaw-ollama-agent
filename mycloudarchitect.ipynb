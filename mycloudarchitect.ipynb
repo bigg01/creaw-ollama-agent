{
 "cells": [
  {
   "cell_type": "code",
   "execution_count": null,
   "metadata": {},
   "outputs": [],
   "source": [
    "from crewai import Agent, Task, Crew, Process"
   ]
  },
  {
   "cell_type": "code",
   "execution_count": null,
   "metadata": {},
   "outputs": [],
   "source": [
    "from langchain_community.llms import Ollama\n",
    "ollama_llm = Ollama(model=\"codellama\")"
   ]
  },
  {
   "cell_type": "code",
   "execution_count": null,
   "metadata": {},
   "outputs": [],
   "source": [
    "from langchain_community.tools import DuckDuckGoSearchRun\n",
    "search_tool = DuckDuckGoSearchRun()"
   ]
  },
  {
   "cell_type": "code",
   "execution_count": null,
   "metadata": {},
   "outputs": [],
   "source": [
    "researcher = Agent(\n",
    "  role='CloudArchitect',\n",
    "  goal='best practices for deploying a web app on Azure using Kubernetes',\n",
    "  backstory=\"\"\"\n",
    "  you are a cloud architect and you need to find information on a topic. \n",
    "  Azure is your preferred cloud provider and you are looking for information on how to deploy a web app on Azure.\n",
    "  Kubernetes is your preferred container orchestration tool.\n",
    "  \"\"\",\n",
    "  verbose=True,\n",
    "  allow_delegation=False,\n",
    "  tools=[search_tool],\n",
    "  llm=ollama_llm\n",
    ")"
   ]
  },
  {
   "cell_type": "code",
   "execution_count": null,
   "metadata": {},
   "outputs": [],
   "source": [
    "writer = Agent(\n",
    "  role='DevOpsEngineer',\n",
    "  goal='create terraform scripts to deploy a web app on Azure',\n",
    "  backstory=\"\"\"\n",
    "  you are a DevOps engineer and you need to create terraform scripts to deploy a web app on Azure.\n",
    "  Kubernetes is your preferred container orchestration tool.\n",
    "  \"\"\",\n",
    "  verbose=True,\n",
    "  allow_delegation=True,\n",
    "  llm=ollama_llm\n",
    ")"
   ]
  },
  {
   "cell_type": "code",
   "execution_count": null,
   "metadata": {},
   "outputs": [],
   "source": [
    "task1 = Task(\n",
    "  description=\"\"\"Search for information on how to deploy a web app on Azure using Kubernetes\"\"\",\n",
    "  agent=researcher,\n",
    "  expected_output=\"\"\n",
    ")"
   ]
  },
  {
   "cell_type": "code",
   "execution_count": null,
   "metadata": {},
   "outputs": [],
   "source": [
    "task2 = Task(\n",
    "  description=\"\"\"Create terraform scripts to deploy a web app on Azure using Kubernetes\"\"\",\n",
    "  agent=writer,\n",
    "  expected_output=\"\"\n",
    ")"
   ]
  },
  {
   "cell_type": "code",
   "execution_count": null,
   "metadata": {},
   "outputs": [],
   "source": [
    "crew = Crew(\n",
    "  agents=[researcher, writer],\n",
    "  tasks=[task1, task2],\n",
    "  verbose=2,\n",
    ")"
   ]
  },
  {
   "cell_type": "code",
   "execution_count": null,
   "metadata": {},
   "outputs": [],
   "source": [
    "result = crew.kickoff()"
   ]
  }
 ],
 "metadata": {
  "kernelspec": {
   "display_name": "creaw-ollama-agent-tDcidhs4",
   "language": "python",
   "name": "python3"
  },
  "language_info": {
   "codemirror_mode": {
    "name": "ipython",
    "version": 3
   },
   "file_extension": ".py",
   "mimetype": "text/x-python",
   "name": "python",
   "nbconvert_exporter": "python",
   "pygments_lexer": "ipython3",
   "version": "3.12.3"
  }
 },
 "nbformat": 4,
 "nbformat_minor": 2
}
